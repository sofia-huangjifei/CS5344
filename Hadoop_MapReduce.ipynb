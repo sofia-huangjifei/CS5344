{
  "nbformat": 4,
  "nbformat_minor": 0,
  "metadata": {
    "colab": {
      "provenance": [],
      "toc_visible": true
    },
    "kernelspec": {
      "name": "python3",
      "display_name": "Python 3"
    },
    "language_info": {
      "name": "python"
    }
  },
  "cells": [
    {
      "cell_type": "code",
      "execution_count": null,
      "metadata": {
        "id": "lHqlgbj8tK8s"
      },
      "outputs": [],
      "source": [
        "import csv\n",
        "import os\n",
        "import json\n",
        "import argparse\n",
        "import random\n",
        "import re\n",
        "import numpy as np\n",
        "import pandas as pd\n",
        "import matplotlib.pyplot as plt\n",
        "from matplotlib.patches import Patch\n",
        "import seaborn as sns\n",
        "import warnings\n",
        "warnings.filterwarnings('ignore')"
      ]
    },
    {
      "cell_type": "code",
      "source": [
        "from google.colab import drive\n",
        "drive.mount('/content/drive')"
      ],
      "metadata": {
        "colab": {
          "base_uri": "https://localhost:8080/"
        },
        "id": "FXabA3LScuKZ",
        "outputId": "01b69cd6-ba44-4107-e5e1-ac8e1a186cab"
      },
      "execution_count": null,
      "outputs": [
        {
          "output_type": "stream",
          "name": "stdout",
          "text": [
            "Drive already mounted at /content/drive; to attempt to forcibly remount, call drive.mount(\"/content/drive\", force_remount=True).\n"
          ]
        }
      ]
    },
    {
      "cell_type": "markdown",
      "source": [
        "# Data Loading"
      ],
      "metadata": {
        "id": "7a3SqRlRcy-s"
      }
    },
    {
      "cell_type": "code",
      "source": [
        "scamdigger_dataset_path = \"/content/drive/MyDrive/NUS MSBA/CS5344/script/scamdigger/scam_profiles_output.csv\" #2021 onwards\n",
        "datingnmore_dataset1_path = \"/content/drive/MyDrive/NUS MSBA/CS5344/script/datingnmore/result_1_501.csv\"\n",
        "datingnmore_dataset2_path = \"/content/drive/MyDrive/NUS MSBA/CS5344/script/datingnmore/result_500_1000.csv\" #2018 onwards\n",
        "\n",
        "scam_df = pd.read_csv(scamdigger_dataset_path)\n",
        "dating_df1 = pd.read_csv(datingnmore_dataset1_path)\n",
        "datingn_df2 = pd.read_csv(datingnmore_dataset1_path)\n",
        "\n",
        "scam_df.shape, dating_df1.shape, datingn_df2.shape\n",
        "# print(scam_df.dtypes)"
      ],
      "metadata": {
        "colab": {
          "base_uri": "https://localhost:8080/"
        },
        "id": "c4nkMB5BcyAT",
        "outputId": "d85e867b-a6ef-4963-9ae1-964f97e5929b"
      },
      "execution_count": null,
      "outputs": [
        {
          "output_type": "execute_result",
          "data": {
            "text/plain": [
              "((2622, 17), (15030, 17), (15030, 17))"
            ]
          },
          "metadata": {},
          "execution_count": 3
        }
      ]
    },
    {
      "cell_type": "code",
      "source": [
        "datingnmore_df = pd.concat([dating_df1, datingn_df2], ignore_index=True)\n",
        "datingnmore_df.shape"
      ],
      "metadata": {
        "colab": {
          "base_uri": "https://localhost:8080/"
        },
        "id": "PB4I470gtn3E",
        "outputId": "015d52e7-5272-4ae9-d273-85878c23b716"
      },
      "execution_count": null,
      "outputs": [
        {
          "output_type": "execute_result",
          "data": {
            "text/plain": [
              "(30060, 17)"
            ]
          },
          "metadata": {},
          "execution_count": 4
        }
      ]
    },
    {
      "cell_type": "code",
      "source": [
        "scam_df.head()"
      ],
      "metadata": {
        "colab": {
          "base_uri": "https://localhost:8080/",
          "height": 451
        },
        "id": "ef2ZL1s5e2hM",
        "outputId": "a92b668a-7ae7-43c9-b6ef-f257cf616e10"
      },
      "execution_count": null,
      "outputs": [
        {
          "output_type": "execute_result",
          "data": {
            "text/plain": [
              "   year_reported  month_reported          Username  \\\n",
              "0         2024.0             1.0        leesung212   \n",
              "1         2024.0             1.0               NaN   \n",
              "2         2024.0             1.0  ArmandPaillarde4   \n",
              "3         2024.0             1.0     JuanLopez1956   \n",
              "4         2024.0             1.0          Ethan123   \n",
              "\n",
              "                                               Email                     Name  \\\n",
              "0  davilageorge900@gmail.com, ubaubaifeanyi27@gma...  Davila George, Lee Sung   \n",
              "1                                                NaN                      NaN   \n",
              "2                            planamonique5@gmail.com         Armand Paillarde   \n",
              "3                          donaldson555666@gmail.com               Juan Lopez   \n",
              "4                             ethanmarc253@gmail.com               Ethan Marc   \n",
              "\n",
              "       Age                                            Purpose  \\\n",
              "0  47 y.o.  Friendship, Romance, Serious Relationship, Mar...   \n",
              "1      NaN                                                NaN   \n",
              "2  50 y.o.                               Serious Relationship   \n",
              "3  52 y.o.                                           Marriage   \n",
              "4  29 y.o.            Romance, Serious Relationship, Marriage   \n",
              "\n",
              "              Looking                 Location   Status  \\\n",
              "0  Male, Female, Both     Texas, United States  Widowed   \n",
              "1                 NaN                      NaN      NaN   \n",
              "2              Female         bruxelle, France   Single   \n",
              "3              Female  Michigan, United States   Single   \n",
              "4                Male      Saint-Louis, France   Single   \n",
              "\n",
              "                             Children Orientation Ethnicity   Religion  \\\n",
              "0  I have 1-2 children living with me    Bisexual     Asian      Other   \n",
              "1                                 NaN         NaN       NaN        NaN   \n",
              "2               I don’t have children    Straight     White  Christian   \n",
              "3  I have 1-2 children living with me    Straight     Other  Christian   \n",
              "4               I don’t have children    Bisexual     White  Christian   \n",
              "\n",
              "   Occupation                                        Description  \\\n",
              "0      Doctor                                                NaN   \n",
              "1         NaN                                                NaN   \n",
              "2         NaN  look into the future with hope and would like ...   \n",
              "3      Doctor           Medical Surgeon. Humble and kind hearted   \n",
              "4  Architecte                                                NaN   \n",
              "\n",
              "                                    IP  \n",
              "0      address 197.210.78.85 – Nigeria  \n",
              "1                                  NaN  \n",
              "2  address 41.207.22.144 – Ivory Coast  \n",
              "3        address 41.66.202.159 – Ghana  \n",
              "4      address 185.104.185.114 – proxy  "
            ],
            "text/html": [
              "\n",
              "  <div id=\"df-6b7e69b6-38fd-4261-8847-53366aa6a0f1\" class=\"colab-df-container\">\n",
              "    <div>\n",
              "<style scoped>\n",
              "    .dataframe tbody tr th:only-of-type {\n",
              "        vertical-align: middle;\n",
              "    }\n",
              "\n",
              "    .dataframe tbody tr th {\n",
              "        vertical-align: top;\n",
              "    }\n",
              "\n",
              "    .dataframe thead th {\n",
              "        text-align: right;\n",
              "    }\n",
              "</style>\n",
              "<table border=\"1\" class=\"dataframe\">\n",
              "  <thead>\n",
              "    <tr style=\"text-align: right;\">\n",
              "      <th></th>\n",
              "      <th>year_reported</th>\n",
              "      <th>month_reported</th>\n",
              "      <th>Username</th>\n",
              "      <th>Email</th>\n",
              "      <th>Name</th>\n",
              "      <th>Age</th>\n",
              "      <th>Purpose</th>\n",
              "      <th>Looking</th>\n",
              "      <th>Location</th>\n",
              "      <th>Status</th>\n",
              "      <th>Children</th>\n",
              "      <th>Orientation</th>\n",
              "      <th>Ethnicity</th>\n",
              "      <th>Religion</th>\n",
              "      <th>Occupation</th>\n",
              "      <th>Description</th>\n",
              "      <th>IP</th>\n",
              "    </tr>\n",
              "  </thead>\n",
              "  <tbody>\n",
              "    <tr>\n",
              "      <th>0</th>\n",
              "      <td>2024.0</td>\n",
              "      <td>1.0</td>\n",
              "      <td>leesung212</td>\n",
              "      <td>davilageorge900@gmail.com, ubaubaifeanyi27@gma...</td>\n",
              "      <td>Davila George, Lee Sung</td>\n",
              "      <td>47 y.o.</td>\n",
              "      <td>Friendship, Romance, Serious Relationship, Mar...</td>\n",
              "      <td>Male, Female, Both</td>\n",
              "      <td>Texas, United States</td>\n",
              "      <td>Widowed</td>\n",
              "      <td>I have 1-2 children living with me</td>\n",
              "      <td>Bisexual</td>\n",
              "      <td>Asian</td>\n",
              "      <td>Other</td>\n",
              "      <td>Doctor</td>\n",
              "      <td>NaN</td>\n",
              "      <td>address 197.210.78.85 – Nigeria</td>\n",
              "    </tr>\n",
              "    <tr>\n",
              "      <th>1</th>\n",
              "      <td>2024.0</td>\n",
              "      <td>1.0</td>\n",
              "      <td>NaN</td>\n",
              "      <td>NaN</td>\n",
              "      <td>NaN</td>\n",
              "      <td>NaN</td>\n",
              "      <td>NaN</td>\n",
              "      <td>NaN</td>\n",
              "      <td>NaN</td>\n",
              "      <td>NaN</td>\n",
              "      <td>NaN</td>\n",
              "      <td>NaN</td>\n",
              "      <td>NaN</td>\n",
              "      <td>NaN</td>\n",
              "      <td>NaN</td>\n",
              "      <td>NaN</td>\n",
              "      <td>NaN</td>\n",
              "    </tr>\n",
              "    <tr>\n",
              "      <th>2</th>\n",
              "      <td>2024.0</td>\n",
              "      <td>1.0</td>\n",
              "      <td>ArmandPaillarde4</td>\n",
              "      <td>planamonique5@gmail.com</td>\n",
              "      <td>Armand Paillarde</td>\n",
              "      <td>50 y.o.</td>\n",
              "      <td>Serious Relationship</td>\n",
              "      <td>Female</td>\n",
              "      <td>bruxelle, France</td>\n",
              "      <td>Single</td>\n",
              "      <td>I don’t have children</td>\n",
              "      <td>Straight</td>\n",
              "      <td>White</td>\n",
              "      <td>Christian</td>\n",
              "      <td>NaN</td>\n",
              "      <td>look into the future with hope and would like ...</td>\n",
              "      <td>address 41.207.22.144 – Ivory Coast</td>\n",
              "    </tr>\n",
              "    <tr>\n",
              "      <th>3</th>\n",
              "      <td>2024.0</td>\n",
              "      <td>1.0</td>\n",
              "      <td>JuanLopez1956</td>\n",
              "      <td>donaldson555666@gmail.com</td>\n",
              "      <td>Juan Lopez</td>\n",
              "      <td>52 y.o.</td>\n",
              "      <td>Marriage</td>\n",
              "      <td>Female</td>\n",
              "      <td>Michigan, United States</td>\n",
              "      <td>Single</td>\n",
              "      <td>I have 1-2 children living with me</td>\n",
              "      <td>Straight</td>\n",
              "      <td>Other</td>\n",
              "      <td>Christian</td>\n",
              "      <td>Doctor</td>\n",
              "      <td>Medical Surgeon. Humble and kind hearted</td>\n",
              "      <td>address 41.66.202.159 – Ghana</td>\n",
              "    </tr>\n",
              "    <tr>\n",
              "      <th>4</th>\n",
              "      <td>2024.0</td>\n",
              "      <td>1.0</td>\n",
              "      <td>Ethan123</td>\n",
              "      <td>ethanmarc253@gmail.com</td>\n",
              "      <td>Ethan Marc</td>\n",
              "      <td>29 y.o.</td>\n",
              "      <td>Romance, Serious Relationship, Marriage</td>\n",
              "      <td>Male</td>\n",
              "      <td>Saint-Louis, France</td>\n",
              "      <td>Single</td>\n",
              "      <td>I don’t have children</td>\n",
              "      <td>Bisexual</td>\n",
              "      <td>White</td>\n",
              "      <td>Christian</td>\n",
              "      <td>Architecte</td>\n",
              "      <td>NaN</td>\n",
              "      <td>address 185.104.185.114 – proxy</td>\n",
              "    </tr>\n",
              "  </tbody>\n",
              "</table>\n",
              "</div>\n",
              "    <div class=\"colab-df-buttons\">\n",
              "\n",
              "  <div class=\"colab-df-container\">\n",
              "    <button class=\"colab-df-convert\" onclick=\"convertToInteractive('df-6b7e69b6-38fd-4261-8847-53366aa6a0f1')\"\n",
              "            title=\"Convert this dataframe to an interactive table.\"\n",
              "            style=\"display:none;\">\n",
              "\n",
              "  <svg xmlns=\"http://www.w3.org/2000/svg\" height=\"24px\" viewBox=\"0 -960 960 960\">\n",
              "    <path d=\"M120-120v-720h720v720H120Zm60-500h600v-160H180v160Zm220 220h160v-160H400v160Zm0 220h160v-160H400v160ZM180-400h160v-160H180v160Zm440 0h160v-160H620v160ZM180-180h160v-160H180v160Zm440 0h160v-160H620v160Z\"/>\n",
              "  </svg>\n",
              "    </button>\n",
              "\n",
              "  <style>\n",
              "    .colab-df-container {\n",
              "      display:flex;\n",
              "      gap: 12px;\n",
              "    }\n",
              "\n",
              "    .colab-df-convert {\n",
              "      background-color: #E8F0FE;\n",
              "      border: none;\n",
              "      border-radius: 50%;\n",
              "      cursor: pointer;\n",
              "      display: none;\n",
              "      fill: #1967D2;\n",
              "      height: 32px;\n",
              "      padding: 0 0 0 0;\n",
              "      width: 32px;\n",
              "    }\n",
              "\n",
              "    .colab-df-convert:hover {\n",
              "      background-color: #E2EBFA;\n",
              "      box-shadow: 0px 1px 2px rgba(60, 64, 67, 0.3), 0px 1px 3px 1px rgba(60, 64, 67, 0.15);\n",
              "      fill: #174EA6;\n",
              "    }\n",
              "\n",
              "    .colab-df-buttons div {\n",
              "      margin-bottom: 4px;\n",
              "    }\n",
              "\n",
              "    [theme=dark] .colab-df-convert {\n",
              "      background-color: #3B4455;\n",
              "      fill: #D2E3FC;\n",
              "    }\n",
              "\n",
              "    [theme=dark] .colab-df-convert:hover {\n",
              "      background-color: #434B5C;\n",
              "      box-shadow: 0px 1px 3px 1px rgba(0, 0, 0, 0.15);\n",
              "      filter: drop-shadow(0px 1px 2px rgba(0, 0, 0, 0.3));\n",
              "      fill: #FFFFFF;\n",
              "    }\n",
              "  </style>\n",
              "\n",
              "    <script>\n",
              "      const buttonEl =\n",
              "        document.querySelector('#df-6b7e69b6-38fd-4261-8847-53366aa6a0f1 button.colab-df-convert');\n",
              "      buttonEl.style.display =\n",
              "        google.colab.kernel.accessAllowed ? 'block' : 'none';\n",
              "\n",
              "      async function convertToInteractive(key) {\n",
              "        const element = document.querySelector('#df-6b7e69b6-38fd-4261-8847-53366aa6a0f1');\n",
              "        const dataTable =\n",
              "          await google.colab.kernel.invokeFunction('convertToInteractive',\n",
              "                                                    [key], {});\n",
              "        if (!dataTable) return;\n",
              "\n",
              "        const docLinkHtml = 'Like what you see? Visit the ' +\n",
              "          '<a target=\"_blank\" href=https://colab.research.google.com/notebooks/data_table.ipynb>data table notebook</a>'\n",
              "          + ' to learn more about interactive tables.';\n",
              "        element.innerHTML = '';\n",
              "        dataTable['output_type'] = 'display_data';\n",
              "        await google.colab.output.renderOutput(dataTable, element);\n",
              "        const docLink = document.createElement('div');\n",
              "        docLink.innerHTML = docLinkHtml;\n",
              "        element.appendChild(docLink);\n",
              "      }\n",
              "    </script>\n",
              "  </div>\n",
              "\n",
              "\n",
              "<div id=\"df-87e21b9b-2c18-4082-8cc6-cffd400af77e\">\n",
              "  <button class=\"colab-df-quickchart\" onclick=\"quickchart('df-87e21b9b-2c18-4082-8cc6-cffd400af77e')\"\n",
              "            title=\"Suggest charts\"\n",
              "            style=\"display:none;\">\n",
              "\n",
              "<svg xmlns=\"http://www.w3.org/2000/svg\" height=\"24px\"viewBox=\"0 0 24 24\"\n",
              "     width=\"24px\">\n",
              "    <g>\n",
              "        <path d=\"M19 3H5c-1.1 0-2 .9-2 2v14c0 1.1.9 2 2 2h14c1.1 0 2-.9 2-2V5c0-1.1-.9-2-2-2zM9 17H7v-7h2v7zm4 0h-2V7h2v10zm4 0h-2v-4h2v4z\"/>\n",
              "    </g>\n",
              "</svg>\n",
              "  </button>\n",
              "\n",
              "<style>\n",
              "  .colab-df-quickchart {\n",
              "      --bg-color: #E8F0FE;\n",
              "      --fill-color: #1967D2;\n",
              "      --hover-bg-color: #E2EBFA;\n",
              "      --hover-fill-color: #174EA6;\n",
              "      --disabled-fill-color: #AAA;\n",
              "      --disabled-bg-color: #DDD;\n",
              "  }\n",
              "\n",
              "  [theme=dark] .colab-df-quickchart {\n",
              "      --bg-color: #3B4455;\n",
              "      --fill-color: #D2E3FC;\n",
              "      --hover-bg-color: #434B5C;\n",
              "      --hover-fill-color: #FFFFFF;\n",
              "      --disabled-bg-color: #3B4455;\n",
              "      --disabled-fill-color: #666;\n",
              "  }\n",
              "\n",
              "  .colab-df-quickchart {\n",
              "    background-color: var(--bg-color);\n",
              "    border: none;\n",
              "    border-radius: 50%;\n",
              "    cursor: pointer;\n",
              "    display: none;\n",
              "    fill: var(--fill-color);\n",
              "    height: 32px;\n",
              "    padding: 0;\n",
              "    width: 32px;\n",
              "  }\n",
              "\n",
              "  .colab-df-quickchart:hover {\n",
              "    background-color: var(--hover-bg-color);\n",
              "    box-shadow: 0 1px 2px rgba(60, 64, 67, 0.3), 0 1px 3px 1px rgba(60, 64, 67, 0.15);\n",
              "    fill: var(--button-hover-fill-color);\n",
              "  }\n",
              "\n",
              "  .colab-df-quickchart-complete:disabled,\n",
              "  .colab-df-quickchart-complete:disabled:hover {\n",
              "    background-color: var(--disabled-bg-color);\n",
              "    fill: var(--disabled-fill-color);\n",
              "    box-shadow: none;\n",
              "  }\n",
              "\n",
              "  .colab-df-spinner {\n",
              "    border: 2px solid var(--fill-color);\n",
              "    border-color: transparent;\n",
              "    border-bottom-color: var(--fill-color);\n",
              "    animation:\n",
              "      spin 1s steps(1) infinite;\n",
              "  }\n",
              "\n",
              "  @keyframes spin {\n",
              "    0% {\n",
              "      border-color: transparent;\n",
              "      border-bottom-color: var(--fill-color);\n",
              "      border-left-color: var(--fill-color);\n",
              "    }\n",
              "    20% {\n",
              "      border-color: transparent;\n",
              "      border-left-color: var(--fill-color);\n",
              "      border-top-color: var(--fill-color);\n",
              "    }\n",
              "    30% {\n",
              "      border-color: transparent;\n",
              "      border-left-color: var(--fill-color);\n",
              "      border-top-color: var(--fill-color);\n",
              "      border-right-color: var(--fill-color);\n",
              "    }\n",
              "    40% {\n",
              "      border-color: transparent;\n",
              "      border-right-color: var(--fill-color);\n",
              "      border-top-color: var(--fill-color);\n",
              "    }\n",
              "    60% {\n",
              "      border-color: transparent;\n",
              "      border-right-color: var(--fill-color);\n",
              "    }\n",
              "    80% {\n",
              "      border-color: transparent;\n",
              "      border-right-color: var(--fill-color);\n",
              "      border-bottom-color: var(--fill-color);\n",
              "    }\n",
              "    90% {\n",
              "      border-color: transparent;\n",
              "      border-bottom-color: var(--fill-color);\n",
              "    }\n",
              "  }\n",
              "</style>\n",
              "\n",
              "  <script>\n",
              "    async function quickchart(key) {\n",
              "      const quickchartButtonEl =\n",
              "        document.querySelector('#' + key + ' button');\n",
              "      quickchartButtonEl.disabled = true;  // To prevent multiple clicks.\n",
              "      quickchartButtonEl.classList.add('colab-df-spinner');\n",
              "      try {\n",
              "        const charts = await google.colab.kernel.invokeFunction(\n",
              "            'suggestCharts', [key], {});\n",
              "      } catch (error) {\n",
              "        console.error('Error during call to suggestCharts:', error);\n",
              "      }\n",
              "      quickchartButtonEl.classList.remove('colab-df-spinner');\n",
              "      quickchartButtonEl.classList.add('colab-df-quickchart-complete');\n",
              "    }\n",
              "    (() => {\n",
              "      let quickchartButtonEl =\n",
              "        document.querySelector('#df-87e21b9b-2c18-4082-8cc6-cffd400af77e button');\n",
              "      quickchartButtonEl.style.display =\n",
              "        google.colab.kernel.accessAllowed ? 'block' : 'none';\n",
              "    })();\n",
              "  </script>\n",
              "</div>\n",
              "\n",
              "    </div>\n",
              "  </div>\n"
            ],
            "application/vnd.google.colaboratory.intrinsic+json": {
              "type": "dataframe",
              "variable_name": "scam_df",
              "summary": "{\n  \"name\": \"scam_df\",\n  \"rows\": 2622,\n  \"fields\": [\n    {\n      \"column\": \"year_reported\",\n      \"properties\": {\n        \"dtype\": \"number\",\n        \"std\": 1.125371121223173,\n        \"min\": 2021.0,\n        \"max\": 2024.0,\n        \"num_unique_values\": 4,\n        \"samples\": [\n          2022.0,\n          2023.0,\n          2024.0\n        ],\n        \"semantic_type\": \"\",\n        \"description\": \"\"\n      }\n    },\n    {\n      \"column\": \"month_reported\",\n      \"properties\": {\n        \"dtype\": \"number\",\n        \"std\": 3.6322760835921573,\n        \"min\": 1.0,\n        \"max\": 12.0,\n        \"num_unique_values\": 12,\n        \"samples\": [\n          3.0,\n          6.0,\n          1.0\n        ],\n        \"semantic_type\": \"\",\n        \"description\": \"\"\n      }\n    },\n    {\n      \"column\": \"Username\",\n      \"properties\": {\n        \"dtype\": \"string\",\n        \"num_unique_values\": 2238,\n        \"samples\": [\n          \"Susancarolyn1\",\n          \"SandraPisces\",\n          \"Scottdavid2040\"\n        ],\n        \"semantic_type\": \"\",\n        \"description\": \"\"\n      }\n    },\n    {\n      \"column\": \"Email\",\n      \"properties\": {\n        \"dtype\": \"string\",\n        \"num_unique_values\": 2228,\n        \"samples\": [\n          \"edwarddon23@gmail.com\",\n          \"priscillawendy6@gmail.com\",\n          \"oakleyliam278@gmail.com, catrionarhonwen@gmail.com\"\n        ],\n        \"semantic_type\": \"\",\n        \"description\": \"\"\n      }\n    },\n    {\n      \"column\": \"Name\",\n      \"properties\": {\n        \"dtype\": \"string\",\n        \"num_unique_values\": 1509,\n        \"samples\": [\n          \"Ampofowaah Rosemond\",\n          \"Lucas Chen\",\n          \"Arthur Chester\"\n        ],\n        \"semantic_type\": \"\",\n        \"description\": \"\"\n      }\n    },\n    {\n      \"column\": \"Age\",\n      \"properties\": {\n        \"dtype\": \"category\",\n        \"num_unique_values\": 64,\n        \"samples\": [\n          \"76 y.o.\",\n          \"20 y.o.\",\n          \"47 y.o.\"\n        ],\n        \"semantic_type\": \"\",\n        \"description\": \"\"\n      }\n    },\n    {\n      \"column\": \"Purpose\",\n      \"properties\": {\n        \"dtype\": \"category\",\n        \"num_unique_values\": 41,\n        \"samples\": [\n          \"Friendship, Romance, Just Fun\",\n          \"Friendship, Serious Relationship, Marriage\",\n          \"Fun\"\n        ],\n        \"semantic_type\": \"\",\n        \"description\": \"\"\n      }\n    },\n    {\n      \"column\": \"Looking\",\n      \"properties\": {\n        \"dtype\": \"category\",\n        \"num_unique_values\": 7,\n        \"samples\": [\n          \"Male, Female, Both\",\n          \"Female\",\n          \"Male, Both\"\n        ],\n        \"semantic_type\": \"\",\n        \"description\": \"\"\n      }\n    },\n    {\n      \"column\": \"Location\",\n      \"properties\": {\n        \"dtype\": \"category\",\n        \"num_unique_values\": 1060,\n        \"samples\": [\n          \"carlifornia, United States\",\n          \"Jacksonville, United States\",\n          \"arizona, United States\"\n        ],\n        \"semantic_type\": \"\",\n        \"description\": \"\"\n      }\n    },\n    {\n      \"column\": \"Status\",\n      \"properties\": {\n        \"dtype\": \"category\",\n        \"num_unique_values\": 11,\n        \"samples\": [\n          \"widowed\",\n          \"Widowed\",\n          \"in relationship\"\n        ],\n        \"semantic_type\": \"\",\n        \"description\": \"\"\n      }\n    },\n    {\n      \"column\": \"Children\",\n      \"properties\": {\n        \"dtype\": \"category\",\n        \"num_unique_values\": 14,\n        \"samples\": [\n          \"I don\\u2019t want children\",\n          \"I have 3 or more children living with me\",\n          \"I have 1-2 children living with me\"\n        ],\n        \"semantic_type\": \"\",\n        \"description\": \"\"\n      }\n    },\n    {\n      \"column\": \"Orientation\",\n      \"properties\": {\n        \"dtype\": \"category\",\n        \"num_unique_values\": 3,\n        \"samples\": [\n          \"Bisexual\",\n          \"Straight\",\n          \"Homosexual\"\n        ],\n        \"semantic_type\": \"\",\n        \"description\": \"\"\n      }\n    },\n    {\n      \"column\": \"Ethnicity\",\n      \"properties\": {\n        \"dtype\": \"category\",\n        \"num_unique_values\": 17,\n        \"samples\": [\n          \"Asian\",\n          \"White\",\n          \"Mixed\"\n        ],\n        \"semantic_type\": \"\",\n        \"description\": \"\"\n      }\n    },\n    {\n      \"column\": \"Religion\",\n      \"properties\": {\n        \"dtype\": \"category\",\n        \"num_unique_values\": 8,\n        \"samples\": [\n          \"Christian\",\n          \"Atheist\",\n          \"Other\"\n        ],\n        \"semantic_type\": \"\",\n        \"description\": \"\"\n      }\n    },\n    {\n      \"column\": \"Occupation\",\n      \"properties\": {\n        \"dtype\": \"category\",\n        \"num_unique_values\": 998,\n        \"samples\": [\n          \"Catering\",\n          \"Fishery Business\",\n          \"civil worker\"\n        ],\n        \"semantic_type\": \"\",\n        \"description\": \"\"\n      }\n    },\n    {\n      \"column\": \"Description\",\n      \"properties\": {\n        \"dtype\": \"string\",\n        \"num_unique_values\": 1806,\n        \"samples\": [\n          \"Molly, I\\u2019m very friendly and kind, caring, honest, and open-minded, I was born In Bristol United Kingdom, I enjoy all outdoors, camping, bowling, cinema, shopping, beach, pool, zoo, and happy hour. I\\u2019m a Cosmetologist. I don\\u2019t now if I have to put more details about myself here but you will know more when we talk personally. Anyway, I joined here to see how it goes this is the second dating site I joined. Bolingmoni googlemale\",\n          \"I\\u2019m Franck, a single man, an honest easy-going man, I live alone and feeling lonely at times, ,new here ready to build a serious relationship here, I like to jog walk jog dance swim music movies cinema and travel,\",\n          \"I am just myself, optimistic, relaxed and easy going. I love going out having a good time and having a laugh. I am considerate and down to earth.\"\n        ],\n        \"semantic_type\": \"\",\n        \"description\": \"\"\n      }\n    },\n    {\n      \"column\": \"IP\",\n      \"properties\": {\n        \"dtype\": \"string\",\n        \"num_unique_values\": 2149,\n        \"samples\": [\n          \"address 192.142.128.125 \\u2013 proxy\",\n          \"address 146.70.63.75 \\u2013 proxy\",\n          \"address 160.154.145.75 \\u2013 Ivory Coast\"\n        ],\n        \"semantic_type\": \"\",\n        \"description\": \"\"\n      }\n    }\n  ]\n}"
            }
          },
          "metadata": {},
          "execution_count": 5
        }
      ]
    },
    {
      "cell_type": "code",
      "source": [
        "datingnmore_df.head()"
      ],
      "metadata": {
        "colab": {
          "base_uri": "https://localhost:8080/",
          "height": 556
        },
        "id": "Y2P64slnuCaP",
        "outputId": "a9654268-4e56-4869-e152-f60cec4cd558"
      },
      "execution_count": null,
      "outputs": [
        {
          "output_type": "execute_result",
          "data": {
            "text/plain": [
              "         name  gender      age                  location    status  \\\n",
              "0     LBreeze  female  63 y.o.          Spokane, WA, USA    single   \n",
              "1     Rossiii  female  27 y.o.       Louisville, KY, USA    single   \n",
              "2      Lendys    male  36 y.o.  Bogotá, Bogota, Colombia    single   \n",
              "3  DanielVega    male  29 y.o.                Lima, Perú    single   \n",
              "4   Pickles69  female  55 y.o.      Bloomington, IL, USA  divorced   \n",
              "\n",
              "     username ethnicity            occupation  \\\n",
              "0     LBreeze     white      Livein caregiver   \n",
              "1     Rossiii     white                     -   \n",
              "2      Lendys  hispanic             Ingeniero   \n",
              "3  DanielVega     mixed  Ingeniero y pianista   \n",
              "4   Pickles69     white    Employed Full time   \n",
              "\n",
              "                                         description      match_age  \\\n",
              "0  I am an extremely gentle hearted kind loving s...  from 19 to 86   \n",
              "1                                                  -  from 19 to 27   \n",
              "2  Ingeniero en sistemas latino con un gran senti...  from 28 to 35   \n",
              "3  ¡Paz y bien!\\r\\nSoy un hombre que ama al Señor...  from 19 to 30   \n",
              "4                                                  -  from 55 to 65   \n",
              "\n",
              "               children orientation   religion       smoking  \\\n",
              "0  1-2 living elsewhere    Straight  Spiritual  light smoker   \n",
              "1           no children    Straight      Other    non-smoker   \n",
              "2           no children    Straight  Christian    non-smoker   \n",
              "3         want children    Straight  Christian    non-smoker   \n",
              "4  1-2 living elsewhere    Straight      Other    non-smoker   \n",
              "\n",
              "             drinking                                             intent  \\\n",
              "0  occasional drinker  Friendship, Romance, Serious Relationship, Mar...   \n",
              "1               never  Fun, Friendship, Romance, Serious Relationship...   \n",
              "2  occasional drinker                                            Romance   \n",
              "3               never         Friendship, Serious Relationship, Marriage   \n",
              "4      social drinker  Fun, Friendship, Romance, Serious Relationship...   \n",
              "\n",
              "   target  \n",
              "0    Male  \n",
              "1    Male  \n",
              "2  Female  \n",
              "3  Female  \n",
              "4    Male  "
            ],
            "text/html": [
              "\n",
              "  <div id=\"df-d42c8a7e-f302-411e-84d5-34bdba5cf19d\" class=\"colab-df-container\">\n",
              "    <div>\n",
              "<style scoped>\n",
              "    .dataframe tbody tr th:only-of-type {\n",
              "        vertical-align: middle;\n",
              "    }\n",
              "\n",
              "    .dataframe tbody tr th {\n",
              "        vertical-align: top;\n",
              "    }\n",
              "\n",
              "    .dataframe thead th {\n",
              "        text-align: right;\n",
              "    }\n",
              "</style>\n",
              "<table border=\"1\" class=\"dataframe\">\n",
              "  <thead>\n",
              "    <tr style=\"text-align: right;\">\n",
              "      <th></th>\n",
              "      <th>name</th>\n",
              "      <th>gender</th>\n",
              "      <th>age</th>\n",
              "      <th>location</th>\n",
              "      <th>status</th>\n",
              "      <th>username</th>\n",
              "      <th>ethnicity</th>\n",
              "      <th>occupation</th>\n",
              "      <th>description</th>\n",
              "      <th>match_age</th>\n",
              "      <th>children</th>\n",
              "      <th>orientation</th>\n",
              "      <th>religion</th>\n",
              "      <th>smoking</th>\n",
              "      <th>drinking</th>\n",
              "      <th>intent</th>\n",
              "      <th>target</th>\n",
              "    </tr>\n",
              "  </thead>\n",
              "  <tbody>\n",
              "    <tr>\n",
              "      <th>0</th>\n",
              "      <td>LBreeze</td>\n",
              "      <td>female</td>\n",
              "      <td>63 y.o.</td>\n",
              "      <td>Spokane, WA, USA</td>\n",
              "      <td>single</td>\n",
              "      <td>LBreeze</td>\n",
              "      <td>white</td>\n",
              "      <td>Livein caregiver</td>\n",
              "      <td>I am an extremely gentle hearted kind loving s...</td>\n",
              "      <td>from 19 to 86</td>\n",
              "      <td>1-2 living elsewhere</td>\n",
              "      <td>Straight</td>\n",
              "      <td>Spiritual</td>\n",
              "      <td>light smoker</td>\n",
              "      <td>occasional drinker</td>\n",
              "      <td>Friendship, Romance, Serious Relationship, Mar...</td>\n",
              "      <td>Male</td>\n",
              "    </tr>\n",
              "    <tr>\n",
              "      <th>1</th>\n",
              "      <td>Rossiii</td>\n",
              "      <td>female</td>\n",
              "      <td>27 y.o.</td>\n",
              "      <td>Louisville, KY, USA</td>\n",
              "      <td>single</td>\n",
              "      <td>Rossiii</td>\n",
              "      <td>white</td>\n",
              "      <td>-</td>\n",
              "      <td>-</td>\n",
              "      <td>from 19 to 27</td>\n",
              "      <td>no children</td>\n",
              "      <td>Straight</td>\n",
              "      <td>Other</td>\n",
              "      <td>non-smoker</td>\n",
              "      <td>never</td>\n",
              "      <td>Fun, Friendship, Romance, Serious Relationship...</td>\n",
              "      <td>Male</td>\n",
              "    </tr>\n",
              "    <tr>\n",
              "      <th>2</th>\n",
              "      <td>Lendys</td>\n",
              "      <td>male</td>\n",
              "      <td>36 y.o.</td>\n",
              "      <td>Bogotá, Bogota, Colombia</td>\n",
              "      <td>single</td>\n",
              "      <td>Lendys</td>\n",
              "      <td>hispanic</td>\n",
              "      <td>Ingeniero</td>\n",
              "      <td>Ingeniero en sistemas latino con un gran senti...</td>\n",
              "      <td>from 28 to 35</td>\n",
              "      <td>no children</td>\n",
              "      <td>Straight</td>\n",
              "      <td>Christian</td>\n",
              "      <td>non-smoker</td>\n",
              "      <td>occasional drinker</td>\n",
              "      <td>Romance</td>\n",
              "      <td>Female</td>\n",
              "    </tr>\n",
              "    <tr>\n",
              "      <th>3</th>\n",
              "      <td>DanielVega</td>\n",
              "      <td>male</td>\n",
              "      <td>29 y.o.</td>\n",
              "      <td>Lima, Perú</td>\n",
              "      <td>single</td>\n",
              "      <td>DanielVega</td>\n",
              "      <td>mixed</td>\n",
              "      <td>Ingeniero y pianista</td>\n",
              "      <td>¡Paz y bien!\\r\\nSoy un hombre que ama al Señor...</td>\n",
              "      <td>from 19 to 30</td>\n",
              "      <td>want children</td>\n",
              "      <td>Straight</td>\n",
              "      <td>Christian</td>\n",
              "      <td>non-smoker</td>\n",
              "      <td>never</td>\n",
              "      <td>Friendship, Serious Relationship, Marriage</td>\n",
              "      <td>Female</td>\n",
              "    </tr>\n",
              "    <tr>\n",
              "      <th>4</th>\n",
              "      <td>Pickles69</td>\n",
              "      <td>female</td>\n",
              "      <td>55 y.o.</td>\n",
              "      <td>Bloomington, IL, USA</td>\n",
              "      <td>divorced</td>\n",
              "      <td>Pickles69</td>\n",
              "      <td>white</td>\n",
              "      <td>Employed Full time</td>\n",
              "      <td>-</td>\n",
              "      <td>from 55 to 65</td>\n",
              "      <td>1-2 living elsewhere</td>\n",
              "      <td>Straight</td>\n",
              "      <td>Other</td>\n",
              "      <td>non-smoker</td>\n",
              "      <td>social drinker</td>\n",
              "      <td>Fun, Friendship, Romance, Serious Relationship...</td>\n",
              "      <td>Male</td>\n",
              "    </tr>\n",
              "  </tbody>\n",
              "</table>\n",
              "</div>\n",
              "    <div class=\"colab-df-buttons\">\n",
              "\n",
              "  <div class=\"colab-df-container\">\n",
              "    <button class=\"colab-df-convert\" onclick=\"convertToInteractive('df-d42c8a7e-f302-411e-84d5-34bdba5cf19d')\"\n",
              "            title=\"Convert this dataframe to an interactive table.\"\n",
              "            style=\"display:none;\">\n",
              "\n",
              "  <svg xmlns=\"http://www.w3.org/2000/svg\" height=\"24px\" viewBox=\"0 -960 960 960\">\n",
              "    <path d=\"M120-120v-720h720v720H120Zm60-500h600v-160H180v160Zm220 220h160v-160H400v160Zm0 220h160v-160H400v160ZM180-400h160v-160H180v160Zm440 0h160v-160H620v160ZM180-180h160v-160H180v160Zm440 0h160v-160H620v160Z\"/>\n",
              "  </svg>\n",
              "    </button>\n",
              "\n",
              "  <style>\n",
              "    .colab-df-container {\n",
              "      display:flex;\n",
              "      gap: 12px;\n",
              "    }\n",
              "\n",
              "    .colab-df-convert {\n",
              "      background-color: #E8F0FE;\n",
              "      border: none;\n",
              "      border-radius: 50%;\n",
              "      cursor: pointer;\n",
              "      display: none;\n",
              "      fill: #1967D2;\n",
              "      height: 32px;\n",
              "      padding: 0 0 0 0;\n",
              "      width: 32px;\n",
              "    }\n",
              "\n",
              "    .colab-df-convert:hover {\n",
              "      background-color: #E2EBFA;\n",
              "      box-shadow: 0px 1px 2px rgba(60, 64, 67, 0.3), 0px 1px 3px 1px rgba(60, 64, 67, 0.15);\n",
              "      fill: #174EA6;\n",
              "    }\n",
              "\n",
              "    .colab-df-buttons div {\n",
              "      margin-bottom: 4px;\n",
              "    }\n",
              "\n",
              "    [theme=dark] .colab-df-convert {\n",
              "      background-color: #3B4455;\n",
              "      fill: #D2E3FC;\n",
              "    }\n",
              "\n",
              "    [theme=dark] .colab-df-convert:hover {\n",
              "      background-color: #434B5C;\n",
              "      box-shadow: 0px 1px 3px 1px rgba(0, 0, 0, 0.15);\n",
              "      filter: drop-shadow(0px 1px 2px rgba(0, 0, 0, 0.3));\n",
              "      fill: #FFFFFF;\n",
              "    }\n",
              "  </style>\n",
              "\n",
              "    <script>\n",
              "      const buttonEl =\n",
              "        document.querySelector('#df-d42c8a7e-f302-411e-84d5-34bdba5cf19d button.colab-df-convert');\n",
              "      buttonEl.style.display =\n",
              "        google.colab.kernel.accessAllowed ? 'block' : 'none';\n",
              "\n",
              "      async function convertToInteractive(key) {\n",
              "        const element = document.querySelector('#df-d42c8a7e-f302-411e-84d5-34bdba5cf19d');\n",
              "        const dataTable =\n",
              "          await google.colab.kernel.invokeFunction('convertToInteractive',\n",
              "                                                    [key], {});\n",
              "        if (!dataTable) return;\n",
              "\n",
              "        const docLinkHtml = 'Like what you see? Visit the ' +\n",
              "          '<a target=\"_blank\" href=https://colab.research.google.com/notebooks/data_table.ipynb>data table notebook</a>'\n",
              "          + ' to learn more about interactive tables.';\n",
              "        element.innerHTML = '';\n",
              "        dataTable['output_type'] = 'display_data';\n",
              "        await google.colab.output.renderOutput(dataTable, element);\n",
              "        const docLink = document.createElement('div');\n",
              "        docLink.innerHTML = docLinkHtml;\n",
              "        element.appendChild(docLink);\n",
              "      }\n",
              "    </script>\n",
              "  </div>\n",
              "\n",
              "\n",
              "<div id=\"df-ac6c79d5-8d16-4ca7-b005-8d424ac9d3c6\">\n",
              "  <button class=\"colab-df-quickchart\" onclick=\"quickchart('df-ac6c79d5-8d16-4ca7-b005-8d424ac9d3c6')\"\n",
              "            title=\"Suggest charts\"\n",
              "            style=\"display:none;\">\n",
              "\n",
              "<svg xmlns=\"http://www.w3.org/2000/svg\" height=\"24px\"viewBox=\"0 0 24 24\"\n",
              "     width=\"24px\">\n",
              "    <g>\n",
              "        <path d=\"M19 3H5c-1.1 0-2 .9-2 2v14c0 1.1.9 2 2 2h14c1.1 0 2-.9 2-2V5c0-1.1-.9-2-2-2zM9 17H7v-7h2v7zm4 0h-2V7h2v10zm4 0h-2v-4h2v4z\"/>\n",
              "    </g>\n",
              "</svg>\n",
              "  </button>\n",
              "\n",
              "<style>\n",
              "  .colab-df-quickchart {\n",
              "      --bg-color: #E8F0FE;\n",
              "      --fill-color: #1967D2;\n",
              "      --hover-bg-color: #E2EBFA;\n",
              "      --hover-fill-color: #174EA6;\n",
              "      --disabled-fill-color: #AAA;\n",
              "      --disabled-bg-color: #DDD;\n",
              "  }\n",
              "\n",
              "  [theme=dark] .colab-df-quickchart {\n",
              "      --bg-color: #3B4455;\n",
              "      --fill-color: #D2E3FC;\n",
              "      --hover-bg-color: #434B5C;\n",
              "      --hover-fill-color: #FFFFFF;\n",
              "      --disabled-bg-color: #3B4455;\n",
              "      --disabled-fill-color: #666;\n",
              "  }\n",
              "\n",
              "  .colab-df-quickchart {\n",
              "    background-color: var(--bg-color);\n",
              "    border: none;\n",
              "    border-radius: 50%;\n",
              "    cursor: pointer;\n",
              "    display: none;\n",
              "    fill: var(--fill-color);\n",
              "    height: 32px;\n",
              "    padding: 0;\n",
              "    width: 32px;\n",
              "  }\n",
              "\n",
              "  .colab-df-quickchart:hover {\n",
              "    background-color: var(--hover-bg-color);\n",
              "    box-shadow: 0 1px 2px rgba(60, 64, 67, 0.3), 0 1px 3px 1px rgba(60, 64, 67, 0.15);\n",
              "    fill: var(--button-hover-fill-color);\n",
              "  }\n",
              "\n",
              "  .colab-df-quickchart-complete:disabled,\n",
              "  .colab-df-quickchart-complete:disabled:hover {\n",
              "    background-color: var(--disabled-bg-color);\n",
              "    fill: var(--disabled-fill-color);\n",
              "    box-shadow: none;\n",
              "  }\n",
              "\n",
              "  .colab-df-spinner {\n",
              "    border: 2px solid var(--fill-color);\n",
              "    border-color: transparent;\n",
              "    border-bottom-color: var(--fill-color);\n",
              "    animation:\n",
              "      spin 1s steps(1) infinite;\n",
              "  }\n",
              "\n",
              "  @keyframes spin {\n",
              "    0% {\n",
              "      border-color: transparent;\n",
              "      border-bottom-color: var(--fill-color);\n",
              "      border-left-color: var(--fill-color);\n",
              "    }\n",
              "    20% {\n",
              "      border-color: transparent;\n",
              "      border-left-color: var(--fill-color);\n",
              "      border-top-color: var(--fill-color);\n",
              "    }\n",
              "    30% {\n",
              "      border-color: transparent;\n",
              "      border-left-color: var(--fill-color);\n",
              "      border-top-color: var(--fill-color);\n",
              "      border-right-color: var(--fill-color);\n",
              "    }\n",
              "    40% {\n",
              "      border-color: transparent;\n",
              "      border-right-color: var(--fill-color);\n",
              "      border-top-color: var(--fill-color);\n",
              "    }\n",
              "    60% {\n",
              "      border-color: transparent;\n",
              "      border-right-color: var(--fill-color);\n",
              "    }\n",
              "    80% {\n",
              "      border-color: transparent;\n",
              "      border-right-color: var(--fill-color);\n",
              "      border-bottom-color: var(--fill-color);\n",
              "    }\n",
              "    90% {\n",
              "      border-color: transparent;\n",
              "      border-bottom-color: var(--fill-color);\n",
              "    }\n",
              "  }\n",
              "</style>\n",
              "\n",
              "  <script>\n",
              "    async function quickchart(key) {\n",
              "      const quickchartButtonEl =\n",
              "        document.querySelector('#' + key + ' button');\n",
              "      quickchartButtonEl.disabled = true;  // To prevent multiple clicks.\n",
              "      quickchartButtonEl.classList.add('colab-df-spinner');\n",
              "      try {\n",
              "        const charts = await google.colab.kernel.invokeFunction(\n",
              "            'suggestCharts', [key], {});\n",
              "      } catch (error) {\n",
              "        console.error('Error during call to suggestCharts:', error);\n",
              "      }\n",
              "      quickchartButtonEl.classList.remove('colab-df-spinner');\n",
              "      quickchartButtonEl.classList.add('colab-df-quickchart-complete');\n",
              "    }\n",
              "    (() => {\n",
              "      let quickchartButtonEl =\n",
              "        document.querySelector('#df-ac6c79d5-8d16-4ca7-b005-8d424ac9d3c6 button');\n",
              "      quickchartButtonEl.style.display =\n",
              "        google.colab.kernel.accessAllowed ? 'block' : 'none';\n",
              "    })();\n",
              "  </script>\n",
              "</div>\n",
              "\n",
              "    </div>\n",
              "  </div>\n"
            ],
            "application/vnd.google.colaboratory.intrinsic+json": {
              "type": "dataframe",
              "variable_name": "datingnmore_df",
              "summary": "{\n  \"name\": \"datingnmore_df\",\n  \"rows\": 30060,\n  \"fields\": [\n    {\n      \"column\": \"name\",\n      \"properties\": {\n        \"dtype\": \"string\",\n        \"num_unique_values\": 15030,\n        \"samples\": [\n          \"Norita\",\n          \"Yolima1976\",\n          \"skunk\"\n        ],\n        \"semantic_type\": \"\",\n        \"description\": \"\"\n      }\n    },\n    {\n      \"column\": \"gender\",\n      \"properties\": {\n        \"dtype\": \"category\",\n        \"num_unique_values\": 3,\n        \"samples\": [\n          \"female\",\n          \"male\",\n          \"error\"\n        ],\n        \"semantic_type\": \"\",\n        \"description\": \"\"\n      }\n    },\n    {\n      \"column\": \"age\",\n      \"properties\": {\n        \"dtype\": \"category\",\n        \"num_unique_values\": 68,\n        \"samples\": [\n          \"67 y.o.\",\n          \"51 y.o.\",\n          \"55 y.o.\"\n        ],\n        \"semantic_type\": \"\",\n        \"description\": \"\"\n      }\n    },\n    {\n      \"column\": \"location\",\n      \"properties\": {\n        \"dtype\": \"category\",\n        \"num_unique_values\": 4254,\n        \"samples\": [\n          \"Addis Ababa, Ethiopia\",\n          \"Joinville - State of Santa Catarina, Brazil\",\n          \"Chiang Mai, Mueang Chiang Mai District, Chiang Mai, Thailand\"\n        ],\n        \"semantic_type\": \"\",\n        \"description\": \"\"\n      }\n    },\n    {\n      \"column\": \"status\",\n      \"properties\": {\n        \"dtype\": \"category\",\n        \"num_unique_values\": 7,\n        \"samples\": [\n          \"single\",\n          \"divorced\",\n          \"in relationship\"\n        ],\n        \"semantic_type\": \"\",\n        \"description\": \"\"\n      }\n    },\n    {\n      \"column\": \"username\",\n      \"properties\": {\n        \"dtype\": \"category\",\n        \"num_unique_values\": 15001,\n        \"samples\": [\n          \"Dessarono55\",\n          \"Luna90\",\n          \"More13\"\n        ],\n        \"semantic_type\": \"\",\n        \"description\": \"\"\n      }\n    },\n    {\n      \"column\": \"ethnicity\",\n      \"properties\": {\n        \"dtype\": \"category\",\n        \"num_unique_values\": 9,\n        \"samples\": [\n          \"pacific islander\",\n          \"hispanic\",\n          \"middle eastern\"\n        ],\n        \"semantic_type\": \"\",\n        \"description\": \"\"\n      }\n    },\n    {\n      \"column\": \"occupation\",\n      \"properties\": {\n        \"dtype\": \"category\",\n        \"num_unique_values\": 4719,\n        \"samples\": [\n          \"interprete\",\n          \"Ingeniero Informatico\",\n          \"tattoo artist\"\n        ],\n        \"semantic_type\": \"\",\n        \"description\": \"\"\n      }\n    },\n    {\n      \"column\": \"description\",\n      \"properties\": {\n        \"dtype\": \"category\",\n        \"num_unique_values\": 4783,\n        \"samples\": [\n          \"Apasionada en lo hago..rom\\u00e1ntica..amorosa ..trabajadora ..puntual y sobre todo sincera.\",\n          \"fun loving romantic passionate smart exotic lady...looking for my soulmate and best friend...love to cuddle and is adventurous too...\",\n          \"Es cuesti\\u00f3n de conocernos y dar tu opini\\u00f3n de mi, solo puedo decir que soy responsable, amable, y respetuosa.\"\n        ],\n        \"semantic_type\": \"\",\n        \"description\": \"\"\n      }\n    },\n    {\n      \"column\": \"match_age\",\n      \"properties\": {\n        \"dtype\": \"category\",\n        \"num_unique_values\": 1150,\n        \"samples\": [\n          \"from 57 to 57\",\n          \"from 49 to 86\",\n          \"from 40 to 74\"\n        ],\n        \"semantic_type\": \"\",\n        \"description\": \"\"\n      }\n    },\n    {\n      \"column\": \"children\",\n      \"properties\": {\n        \"dtype\": \"category\",\n        \"num_unique_values\": 8,\n        \"samples\": [\n          \"no children\",\n          \"don't want children\",\n          \"1-2 living elsewhere\"\n        ],\n        \"semantic_type\": \"\",\n        \"description\": \"\"\n      }\n    },\n    {\n      \"column\": \"orientation\",\n      \"properties\": {\n        \"dtype\": \"category\",\n        \"num_unique_values\": 4,\n        \"samples\": [\n          \"Homosexual\",\n          \"error\",\n          \"Straight\"\n        ],\n        \"semantic_type\": \"\",\n        \"description\": \"\"\n      }\n    },\n    {\n      \"column\": \"religion\",\n      \"properties\": {\n        \"dtype\": \"category\",\n        \"num_unique_values\": 9,\n        \"samples\": [\n          \"Jewish\",\n          \"Other\",\n          \"Hindu\"\n        ],\n        \"semantic_type\": \"\",\n        \"description\": \"\"\n      }\n    },\n    {\n      \"column\": \"smoking\",\n      \"properties\": {\n        \"dtype\": \"category\",\n        \"num_unique_values\": 5,\n        \"samples\": [\n          \"non-smoker\",\n          \"error\",\n          \"social smoker\"\n        ],\n        \"semantic_type\": \"\",\n        \"description\": \"\"\n      }\n    },\n    {\n      \"column\": \"drinking\",\n      \"properties\": {\n        \"dtype\": \"category\",\n        \"num_unique_values\": 5,\n        \"samples\": [\n          \"never\",\n          \"error\",\n          \"social drinker\"\n        ],\n        \"semantic_type\": \"\",\n        \"description\": \"\"\n      }\n    },\n    {\n      \"column\": \"intent\",\n      \"properties\": {\n        \"dtype\": \"category\",\n        \"num_unique_values\": 32,\n        \"samples\": [\n          \"Fun, Friendship, Marriage\",\n          \"Fun, Romance\",\n          \"Friendship, Marriage\"\n        ],\n        \"semantic_type\": \"\",\n        \"description\": \"\"\n      }\n    },\n    {\n      \"column\": \"target\",\n      \"properties\": {\n        \"dtype\": \"category\",\n        \"num_unique_values\": 4,\n        \"samples\": [\n          \"Female\",\n          \"error\",\n          \"Male\"\n        ],\n        \"semantic_type\": \"\",\n        \"description\": \"\"\n      }\n    }\n  ]\n}"
            }
          },
          "metadata": {},
          "execution_count": 6
        }
      ]
    },
    {
      "cell_type": "code",
      "source": [
        "scam_df.columns = scam_df.columns.str.lower()\n",
        "scam_df = scam_df.rename(columns = {'looking':'target','purpose':'intent'})\n"
      ],
      "metadata": {
        "id": "1Y1bIoqi2U1l"
      },
      "execution_count": null,
      "outputs": []
    },
    {
      "cell_type": "code",
      "source": [
        "scam_df['age'] = scam_df['age'].fillna('').astype(str).str.extract(r'(\\d+)').astype(float)\n",
        "datingnmore_df['age'] = datingnmore_df['age'].str.extract(r'(\\d+)').astype(float)\n",
        "scam_df['status'] = scam_df['status'].str.lower()\n",
        "datingnmore_df = datingnmore_df[datingnmore_df['ethnicity'] != 'error']\n",
        "scam_df['ethnicity'] = scam_df['ethnicity'].str.lower() #fill in nan value with mod later\n",
        "scam_df['occupation'] = scam_df['occupation'].str.lower()\n",
        "datingnmore_df['occupation'] = datingnmore_df['occupation'].str.lower() #fill '-' with mod later\n",
        "datingnmore_df['location'] = datingnmore_df['location'].str.lower()\n",
        "scam_df['location'] = scam_df['location'].str.lower()"
      ],
      "metadata": {
        "id": "MuJWdAP4uh3S"
      },
      "execution_count": null,
      "outputs": []
    },
    {
      "cell_type": "code",
      "source": [
        "scam_df.loc[scam_df['children'] == 'I have 1-2 children living with me','children'] = '1-2 living with me'\n",
        "scam_df.loc[scam_df['children'] == 'I have 1-2 children living elsewhere','children'] = '1-2 living elsewhere'\n",
        "scam_df.loc[scam_df['children'] == 'I don’t have children','children'] = 'no children'\n",
        "scam_df.loc[scam_df['children'] == 'I want children','children'] = 'want children'\n",
        "scam_df.loc[scam_df['children'] == 'I have 3 or or more children living elsewhere','children'] = 'more than 2 living elsewhere'\n",
        "scam_df.loc[scam_df['children'] == 'I have 3 or more children living with me','children'] = 'more than 2 living with me'\n",
        "scam_df.loc[scam_df['children'] == 'I don’t want children','children'] = \"don't want children\"\n",
        "scam_df.loc[scam_df['children'] == 'don’t want children','children'] = \"don't want children\" #nan"
      ],
      "metadata": {
        "id": "ZmOV_m4i0IPn"
      },
      "execution_count": null,
      "outputs": []
    },
    {
      "cell_type": "code",
      "source": [
        "def update_looking(value):\n",
        "    if pd.isna(value):\n",
        "        return value\n",
        "    if 'Both' in value or 'Male, Female' in value:\n",
        "        return 'Both'\n",
        "    return value\n",
        "scam_df['target'] = scam_df['target'].apply(update_looking)\n",
        "datingnmore_df['target'] = datingnmore_df['target'].apply(update_looking)"
      ],
      "metadata": {
        "id": "JMSxgF3MoTy4"
      },
      "execution_count": null,
      "outputs": []
    },
    {
      "cell_type": "code",
      "source": [
        "def check_purposes(df):\n",
        "    purposes = ['Friendship', 'Romance', 'Serious Relationship', 'Marriage', 'Fun']\n",
        "    for purpose in purposes:\n",
        "        # Create a new column for each purpose, assigning 1 if it's present, otherwise 0\n",
        "        df[f'intent_{purpose.replace(\" \", \"_\")}'] = df['intent'].apply(\n",
        "            lambda x: 1 if isinstance(x, str) and purpose in x else 0\n",
        "        )\n",
        "\n",
        "    return df\n",
        "\n",
        "scam_df = check_purposes(scam_df)\n",
        "datingnmore_df = check_purposes(datingnmore_df)\n",
        "\n",
        "scam_df = scam_df.drop('intent', axis=1)\n",
        "datingnmore_df = datingnmore_df.drop('intent', axis=1)"
      ],
      "metadata": {
        "id": "LkiJ41L35ghJ"
      },
      "execution_count": null,
      "outputs": []
    },
    {
      "cell_type": "code",
      "source": [
        "scam_df = scam_df.dropna(subset=['age'])"
      ],
      "metadata": {
        "id": "Qy-TtV-qu3tH"
      },
      "execution_count": null,
      "outputs": []
    },
    {
      "cell_type": "code",
      "source": [
        "scam_df_model = scam_df[['age','target','location','status','children','orientation',\n",
        "                         'ethnicity','religion','occupation','description','intent_Friendship',\n",
        "                         'intent_Romance','intent_Serious_Relationship','intent_Marriage','intent_Fun']]\n",
        "\n",
        "datingnmore_df_model = datingnmore_df[['age','target','location','status','children','orientation',\n",
        "                         'ethnicity','religion','occupation','description','intent_Friendship',\n",
        "                         'intent_Romance','intent_Serious_Relationship','intent_Marriage','intent_Fun']]"
      ],
      "metadata": {
        "id": "gPV1rspu6bWz"
      },
      "execution_count": null,
      "outputs": []
    },
    {
      "cell_type": "code",
      "source": [
        "scam_df_model['scammer']=1\n",
        "datingnmore_df_model['scammer']=0"
      ],
      "metadata": {
        "id": "JVsNnnBKC7-4"
      },
      "execution_count": null,
      "outputs": []
    },
    {
      "cell_type": "code",
      "source": [
        "\n",
        "merge_df = pd.concat([scam_df_model, datingnmore_df_model], ignore_index=True)"
      ],
      "metadata": {
        "id": "NT3pN8ox-oP5"
      },
      "execution_count": null,
      "outputs": []
    },
    {
      "cell_type": "code",
      "source": [
        "merge_df.shape"
      ],
      "metadata": {
        "colab": {
          "base_uri": "https://localhost:8080/"
        },
        "id": "jPIKa8GrxHss",
        "outputId": "7d1e7fda-336a-43ff-a064-78fe47ebb21c"
      },
      "execution_count": null,
      "outputs": [
        {
          "output_type": "execute_result",
          "data": {
            "text/plain": [
              "(32240, 16)"
            ]
          },
          "metadata": {},
          "execution_count": 16
        }
      ]
    },
    {
      "cell_type": "code",
      "source": [
        "def fill_missing_with_mode(df, columns):\n",
        "    for col in columns:\n",
        "        mode_value = df[col].mode()[0]\n",
        "        df[col].fillna(mode_value, inplace=True)\n",
        "    return df\n",
        "\n",
        "columns_to_fill = ['status', 'target', 'children','orientation','ethnicity','religion']\n",
        "merge_df = fill_missing_with_mode(merge_df, columns_to_fill)"
      ],
      "metadata": {
        "id": "ZE0Q3nFrB8Gb"
      },
      "execution_count": null,
      "outputs": []
    },
    {
      "cell_type": "code",
      "source": [
        "merge_df['city'] = merge_df['location'].str.extract(r'([^,-,-–]+)')[0]\n",
        "merge_df['city'] = merge_df['city'].str.replace(r'\\d+', '', regex=True)\n",
        "merge_df['city'] = merge_df['city'].str.strip()"
      ],
      "metadata": {
        "id": "KGWLoeQnmsO8"
      },
      "execution_count": null,
      "outputs": []
    },
    {
      "cell_type": "markdown",
      "source": [
        "# Description Analysis Using MapReduce"
      ],
      "metadata": {
        "id": "H0D_SS0b45eO"
      }
    },
    {
      "cell_type": "code",
      "source": [
        "scammer_df_copy = scammer_df.copy()"
      ],
      "metadata": {
        "id": "OIpiKCr7HHIj"
      },
      "execution_count": null,
      "outputs": []
    },
    {
      "cell_type": "code",
      "source": [
        "desc = scammer_df_copy['description']\n",
        "desc.head(10)"
      ],
      "metadata": {
        "colab": {
          "base_uri": "https://localhost:8080/",
          "height": 397
        },
        "id": "iDGdTgekECHr",
        "outputId": "7766d44f-0ec2-4c89-de6c-b3209e614f2d"
      },
      "execution_count": null,
      "outputs": [
        {
          "output_type": "execute_result",
          "data": {
            "text/plain": [
              "0                                              unknown\n",
              "1    look into the future with hope and would like ...\n",
              "2             Medical Surgeon. Humble and kind hearted\n",
              "3                                              unknown\n",
              "4               I am a Simple man living my own dreams\n",
              "5                                              unknown\n",
              "6    A matured and responsible woman who is interes...\n",
              "7                i,m caring,lovely,honest and good man\n",
              "8    I’m interested in meeting a woman to start a f...\n",
              "9                               Am a man of simplicity\n",
              "Name: description, dtype: object"
            ],
            "text/html": [
              "<div>\n",
              "<style scoped>\n",
              "    .dataframe tbody tr th:only-of-type {\n",
              "        vertical-align: middle;\n",
              "    }\n",
              "\n",
              "    .dataframe tbody tr th {\n",
              "        vertical-align: top;\n",
              "    }\n",
              "\n",
              "    .dataframe thead th {\n",
              "        text-align: right;\n",
              "    }\n",
              "</style>\n",
              "<table border=\"1\" class=\"dataframe\">\n",
              "  <thead>\n",
              "    <tr style=\"text-align: right;\">\n",
              "      <th></th>\n",
              "      <th>description</th>\n",
              "    </tr>\n",
              "  </thead>\n",
              "  <tbody>\n",
              "    <tr>\n",
              "      <th>0</th>\n",
              "      <td>unknown</td>\n",
              "    </tr>\n",
              "    <tr>\n",
              "      <th>1</th>\n",
              "      <td>look into the future with hope and would like ...</td>\n",
              "    </tr>\n",
              "    <tr>\n",
              "      <th>2</th>\n",
              "      <td>Medical Surgeon. Humble and kind hearted</td>\n",
              "    </tr>\n",
              "    <tr>\n",
              "      <th>3</th>\n",
              "      <td>unknown</td>\n",
              "    </tr>\n",
              "    <tr>\n",
              "      <th>4</th>\n",
              "      <td>I am a Simple man living my own dreams</td>\n",
              "    </tr>\n",
              "    <tr>\n",
              "      <th>5</th>\n",
              "      <td>unknown</td>\n",
              "    </tr>\n",
              "    <tr>\n",
              "      <th>6</th>\n",
              "      <td>A matured and responsible woman who is interes...</td>\n",
              "    </tr>\n",
              "    <tr>\n",
              "      <th>7</th>\n",
              "      <td>i,m caring,lovely,honest and good man</td>\n",
              "    </tr>\n",
              "    <tr>\n",
              "      <th>8</th>\n",
              "      <td>I’m interested in meeting a woman to start a f...</td>\n",
              "    </tr>\n",
              "    <tr>\n",
              "      <th>9</th>\n",
              "      <td>Am a man of simplicity</td>\n",
              "    </tr>\n",
              "  </tbody>\n",
              "</table>\n",
              "</div><br><label><b>dtype:</b> object</label>"
            ]
          },
          "metadata": {},
          "execution_count": 77
        }
      ]
    },
    {
      "cell_type": "code",
      "source": [
        "desc.to_csv('desc_input.txt', index=False, header=False)"
      ],
      "metadata": {
        "id": "86R74ADcM-45"
      },
      "execution_count": null,
      "outputs": []
    },
    {
      "cell_type": "code",
      "source": [
        "import nltk\n",
        "from nltk.corpus import stopwords\n",
        "from sklearn.feature_extraction.text import CountVectorizer\n",
        "import spacy\n",
        "\n",
        "# Download NLTK stopwords if not already downloaded\n",
        "nltk.download('stopwords')\n",
        "\n",
        "# NLTK stopwords\n",
        "nltk_stopwords = set(stopwords.words('english'))\n",
        "\n",
        "# Scikit-learn stopwords from CountVectorizer\n",
        "vectorizer = CountVectorizer(stop_words='english')\n",
        "sklearn_stopwords = set(vectorizer.get_stop_words())\n",
        "\n",
        "# SpaCy stopwords\n",
        "nlp = spacy.load(\"en_core_web_sm\")\n",
        "spacy_stopwords = set(nlp.Defaults.stop_words)\n",
        "\n",
        "# Combine all stopwords into one set (automatically removes duplicates)\n",
        "combined_stopwords = nltk_stopwords | sklearn_stopwords | spacy_stopwords\n",
        "\n",
        "# Print the total number of combined stopwords\n",
        "print(f\"Total stopwords combined: {len(combined_stopwords)}\")\n",
        "print(combined_stopwords)"
      ],
      "metadata": {
        "colab": {
          "base_uri": "https://localhost:8080/"
        },
        "id": "uvZODRNNK3NH",
        "outputId": "cfa49c67-4a12-47fb-9b5e-48bb3402ee8d"
      },
      "execution_count": null,
      "outputs": [
        {
          "output_type": "stream",
          "name": "stderr",
          "text": [
            "[nltk_data] Downloading package stopwords to /root/nltk_data...\n",
            "[nltk_data]   Package stopwords is already up-to-date!\n"
          ]
        },
        {
          "output_type": "stream",
          "name": "stdout",
          "text": [
            "Total stopwords combined: 409\n",
            "{'among', 'ourselves', 'was', 'mostly', \"weren't\", 'around', 'will', 'thereafter', 'due', 'by', 'could', 'themselves', 'be', 'o', 'least', 'ltd', 'perhaps', 'how', 'besides', '’d', 'seemed', 'have', 'therefore', \"shouldn't\", 'name', 'further', 'eg', 'ma', \"you'd\", 'become', 'un', 'nevertheless', 'thick', 'where', \"don't\", 'hadn', 'well', 'does', 'of', '’m', 've', 'doing', 'fill', 'ie', \"'s\", \"that'll\", 'mine', 'your', 'having', 'system', 'please', 'thereupon', 'keep', 'beforehand', 'same', 'seems', 'therein', 'amount', 'none', 'some', 'about', 'did', \"should've\", 'together', \"you've\", 'enough', 'or', 'forty', 'being', 'much', 'him', 'yet', 'whenever', 'each', 'would', 'can', 'hence', 'eleven', 'somehow', '’s', 'serious', 'so', 't', 'only', 'out', 'fire', 'seem', \"couldn't\", \"'ve\", 'who', 'an', 'such', 'anyone', '’ve', 'hereafter', 'five', 'you', 'etc', 'has', 'ever', 'we', 'its', '‘s', 'll', 'doesn', 'con', 'thereby', 'the', 'became', 'toward', 'hasn', \"mightn't\", 'rather', 'under', 'they', 'shan', 'while', 'beyond', 'using', 'do', 'latter', 'however', 'my', 'becomes', '‘d', 'anyhow', 'three', 'again', \"hadn't\", \"you're\", 'twelve', 'which', 'thru', 'hers', 'whose', \"it's\", '’ll', 'just', 'nine', 'full', 'anyway', 'yours', 'n’t', 'noone', 'side', 'used', \"won't\", 'he', 'm', 'hasnt', 'when', 'never', 'seeming', 'everywhere', 'de', 'if', 'go', 'via', '‘ll', 'than', 'back', 'other', 'interest', 'upon', 'former', 'cry', 'haven', 'what', 'get', 'latterly', 'mill', 'thin', 'find', 'alone', 'couldnt', \"mustn't\", 'with', \"needn't\", 'becoming', 'a', \"shan't\", 'off', \"haven't\", 'i', 'see', 'am', 'no', 'whereby', 'somewhere', 'at', \"aren't\", 'next', \"'m\", \"wouldn't\", 'either', 'but', 'didn', 'another', 'nowhere', 'others', 'is', 'because', 'very', 'formerly', 'and', 'before', 'hereupon', 'it', 'per', 'up', 'third', 'behind', 'their', 'aren', 'mustn', 'these', 'should', 'wasn', 'meanwhile', \"'ll\", 'four', '‘ve', 'had', 'nobody', 'once', 'now', 'front', \"n't\", 'nor', 'elsewhere', 'already', 'through', \"doesn't\", 'describe', 'sometimes', 'really', 'wherever', 'top', 'still', 'though', 'may', 'anywhere', 'ain', 'made', 'something', 'why', 'few', '’re', 'several', 'n‘t', 'found', 'beside', 'even', 'us', 'herself', \"isn't\", 'otherwise', 'wouldn', 'take', 'whole', 'although', 'throughout', 'over', 'last', 'theirs', 'on', '‘m', 'shouldn', 'always', 'cant', 'there', \"hasn't\", 'ca', 'unless', 'regarding', 'since', 'too', 'almost', 'wherein', 'mightn', 'fifteen', 'below', 'own', 'our', 'to', 'weren', 'first', \"'d\", 'must', 's', 'above', 'part', 'her', 'bill', 'sincere', 'd', 'more', 'whereas', 'herein', 'within', 'whereafter', 'nothing', 'twenty', 'across', 'anything', 'his', 'except', 'empty', 'are', 'as', 'else', 'call', 'yourself', 'onto', 'into', 'whom', 'might', 'most', 'amoungst', 'whoever', 'many', 'various', \"she's\", 'any', 'someone', 'himself', 'fifty', 'both', 'been', 'often', 'from', \"wasn't\", 'make', 'yourselves', 'hundred', 'done', 'co', 'whatever', 'me', 'ten', 'put', 'after', 'one', 'cannot', 'all', 'indeed', 'eight', 'myself', 'until', \"'re\", 'everyone', 'moreover', 'couldn', 'detail', 'afterwards', 'show', 'not', 'down', 'namely', 'move', 'needn', \"didn't\", 'here', 'then', 'amongst', 'everything', 'less', '‘re', 'quite', 'them', 'hereby', \"you'll\", 'along', 'between', 'every', 'that', 'towards', 'without', 'sometime', 'for', 'bottom', 'whence', 'were', 'she', 'sixty', 'against', 'this', 'in', 'won', 'thus', 'neither', 'six', 're', 'itself', 'also', 'thence', 'during', 'ours', 'give', 'say', 'inc', 'don', 'y', 'whether', 'whereupon', 'those', 'whither', 'isn', 'two'}\n"
          ]
        }
      ]
    },
    {
      "cell_type": "code",
      "source": [
        "!wget https://dlcdn.apache.org/hadoop/common/hadoop-3.3.5/hadoop-3.3.5.tar.gz\n",
        "!tar -xzf hadoop-3.3.5.tar.gz\n",
        "# install hadoop to /usr/local\n",
        "!cp -r hadoop-3.3.5/ /usr/local/\n",
        "import os\n",
        "# hadoop needs to know where java is located\n",
        "os.environ[\"JAVA_HOME\"] = \"/usr/lib/jvm/java-11-openjdk-amd64\"\n",
        "# the following line reduces the amount of Hadoop's printed output, to make it easier to see your own debug output\n",
        "os.environ[\"HADOOP_ROOT_LOGGER\"] = \"WARN,console\""
      ],
      "metadata": {
        "colab": {
          "base_uri": "https://localhost:8080/"
        },
        "id": "2-oF2MnOwPtq",
        "outputId": "e3198098-83d6-443b-8e12-b3d74e5dade7"
      },
      "execution_count": null,
      "outputs": [
        {
          "output_type": "stream",
          "name": "stdout",
          "text": [
            "--2024-10-20 04:39:42--  https://dlcdn.apache.org/hadoop/common/hadoop-3.3.5/hadoop-3.3.5.tar.gz\n",
            "Resolving dlcdn.apache.org (dlcdn.apache.org)... 151.101.2.132, 2a04:4e42::644\n",
            "Connecting to dlcdn.apache.org (dlcdn.apache.org)|151.101.2.132|:443... connected.\n",
            "HTTP request sent, awaiting response... 200 OK\n",
            "Length: 706533213 (674M) [application/x-gzip]\n",
            "Saving to: ‘hadoop-3.3.5.tar.gz.1’\n",
            "\n",
            "hadoop-3.3.5.tar.gz 100%[===================>] 673.80M  9.23MB/s    in 22s     \n",
            "\n",
            "2024-10-20 04:40:03 (30.9 MB/s) - ‘hadoop-3.3.5.tar.gz.1’ saved [706533213/706533213]\n",
            "\n"
          ]
        }
      ]
    },
    {
      "cell_type": "code",
      "source": [
        "#mapper\n",
        "%%file mapper.py\n",
        "import sys\n",
        "import re\n",
        "\n",
        "\n",
        "combined_stopwords = {'among', 'ourselves', 'was', 'mostly', \"weren't\", 'around', 'will', 'thereafter', 'due', 'by', 'could', 'themselves', 'be', 'o', 'least', 'ltd', 'perhaps', 'how', 'besides', '’d', 'seemed', 'have', 'therefore', \"shouldn't\", 'name', 'further', 'eg', 'ma', \"you'd\", 'become', 'un', 'nevertheless', 'thick', 'where', \"don't\",'dont','hadn', 'well', 'does', 'of', '’m', 've', 'doing', 'fill', 'ie', \"'s\", \"that'll\", 'mine', 'your', 'having', 'system', 'please', 'thereupon', 'keep', 'beforehand', 'same', 'seems', 'therein', 'amount', 'none', 'some', 'about', 'did', \"should've\", 'together', \"you've\", 'enough', 'or', 'forty', 'being', 'much', 'him', 'yet', 'whenever', 'each', 'would', 'can', 'hence', 'eleven', 'somehow', '’s', 'serious', 'so', 't', 'only', 'out', 'fire', 'seem', \"couldn't\", \"'ve\", 'who', 'an', 'such', 'anyone', '’ve', 'hereafter', 'five', 'you', 'etc', 'has', 'ever', 'we', 'its', '‘s', 'll', 'doesn', 'con', 'thereby', 'the', 'became', 'toward', 'hasn', \"mightn't\", 'rather', 'under', 'they', 'shan', 'while', 'beyond', 'using', 'do', 'latter', 'however', 'my', 'becomes', '‘d', 'anyhow', 'three', 'again', \"hadn't\", \"you're\", 'twelve', 'which', 'thru', 'hers', 'whose', \"it's\", '’ll', 'just', 'nine', 'full', 'anyway', 'yours', 'n’t', 'noone', 'side', 'used', \"won't\", 'he', 'm', 'hasnt', 'when', 'never', 'seeming', 'everywhere', 'de', 'if', 'go', 'via', '‘ll', 'than', 'back', 'other', 'interest', 'upon', 'former', 'cry', 'haven', 'what', 'get', 'latterly', 'mill', 'thin', 'find', 'alone', 'couldnt', \"mustn't\", 'with', \"needn't\", 'becoming', 'a', \"shan't\", 'off', \"haven't\", 'i', 'see', 'am', 'no', 'whereby', 'somewhere', 'at', \"aren't\", 'next', \"'m\", \"wouldn't\", 'either', 'but', 'didn', 'another', 'nowhere', 'others', 'is', 'because', 'very', 'formerly', 'and', 'before', 'hereupon', 'it', 'per', 'up', 'third', 'behind', 'their', 'aren', 'mustn', 'these', 'should', 'wasn', 'meanwhile', \"'ll\", 'four', '‘ve', 'had', 'nobody', 'once', 'now', 'front', \"n't\", 'nor', 'elsewhere', 'already', 'through', \"doesn't\", 'describe', 'sometimes', 'really', 'wherever', 'top', 'still', 'though', 'may', 'anywhere', 'ain', 'made', 'something', 'why', 'few', '’re', 'several', 'n‘t', 'found', 'beside', 'even', 'us', 'herself', \"isn't\", 'otherwise', 'wouldn', 'take', 'whole', 'although', 'throughout', 'over', 'last', 'theirs', 'on', '‘m', 'shouldn', 'always', 'cant', 'there', \"hasn't\", 'ca', 'unless', 'regarding', 'since', 'too', 'almost', 'wherein', 'mightn', 'fifteen', 'below', 'own', 'our', 'to', 'weren', 'first', \"'d\", 'must', 's', 'above', 'part', 'her', 'bill', 'sincere', 'd', 'more', 'whereas', 'herein', 'within', 'whereafter', 'nothing', 'twenty', 'across', 'anything', 'his', 'except', 'empty', 'are', 'as', 'else', 'call', 'yourself', 'onto', 'into', 'whom', 'might', 'most', 'amoungst', 'whoever', 'many', 'various', \"she's\", 'any', 'someone', 'himself', 'fifty', 'both', 'been', 'often', 'from', \"wasn't\", 'make', 'yourselves', 'hundred', 'done', 'co', 'whatever', 'me', 'ten', 'put', 'after', 'one', 'cannot', 'all', 'indeed', 'eight', 'myself', 'until', \"'re\", 'everyone', 'moreover', 'couldn', 'detail', 'afterwards', 'show', 'not', 'down', 'namely', 'move', 'needn', \"didn't\", 'here', 'then', 'amongst', 'everything', 'less', '‘re', 'quite', 'them', 'hereby', \"you'll\", 'along', 'between', 'every', 'that', 'towards', 'without', 'sometime', 'for', 'bottom', 'whence', 'were', 'she', 'sixty', 'against', 'this', 'in', 'won', 'thus', 'neither', 'six', 're', 'itself', 'also', 'thence', 'during', 'ours', 'give', 'say', 'inc', 'don', 'y', 'whether', 'whereupon', 'those', 'whither', 'isn', 'two','unknown'}\n",
        "\n",
        "\n",
        "for line in sys.stdin:\n",
        "    line = re.sub(r'[^\\w\\s]', '', line.lower())\n",
        "\n",
        "    # Split line into words\n",
        "    words = line.split()\n",
        "\n",
        "    # Emit word and count (only if not a stopword)\n",
        "    for word in words:\n",
        "        if word not in combined_stopwords and word.isalpha():  # check if word is alphabetic\n",
        "            print(f\"{word}\\t1\")"
      ],
      "metadata": {
        "id": "To5SEJWZx9pO",
        "colab": {
          "base_uri": "https://localhost:8080/"
        },
        "outputId": "d7095076-9d70-4467-f23f-4124d3768ea0"
      },
      "execution_count": null,
      "outputs": [
        {
          "output_type": "stream",
          "name": "stdout",
          "text": [
            "Overwriting mapper.py\n"
          ]
        }
      ]
    },
    {
      "cell_type": "code",
      "source": [
        "%%file reducer.py\n",
        "import sys\n",
        "\n",
        "counts = {}\n",
        "\n",
        "# Read input line by line from standard input\n",
        "for line in sys.stdin:\n",
        "    word, count = line.strip().split('\\t')\n",
        "    count = int(count)\n",
        "\n",
        "    # Update word count\n",
        "    if word in counts:\n",
        "        counts[word] += count\n",
        "    else:\n",
        "        counts[word] = count\n",
        "\n",
        "# Sort the words by count in descending order\n",
        "sorted_counts = sorted(counts.items(), key=lambda x: x[1], reverse=True)\n",
        "\n",
        "# Output the top 30 most frequent words\n",
        "for word, count in sorted_counts[:30]:\n",
        "    print(f\"{word}\\t{count}\")"
      ],
      "metadata": {
        "colab": {
          "base_uri": "https://localhost:8080/"
        },
        "id": "uWVtl8PzCgmI",
        "outputId": "19a93d34-530c-42c0-a274-6043b861e1f1"
      },
      "execution_count": null,
      "outputs": [
        {
          "output_type": "stream",
          "name": "stdout",
          "text": [
            "Overwriting reducer.py\n"
          ]
        }
      ]
    },
    {
      "cell_type": "code",
      "source": [
        "!chmod u+rwx /content/mapper.py\n",
        "!chmod u+rwx /content/reducer.py"
      ],
      "metadata": {
        "id": "S0OPW9gtC4Ik"
      },
      "execution_count": null,
      "outputs": []
    },
    {
      "cell_type": "code",
      "source": [
        "!rm -rf /content/wordcount_output\n",
        "!/usr/local/hadoop-3.3.5/bin/hadoop jar /usr/local/hadoop-3.3.5/share/hadoop/tools/lib/hadoop-streaming-3.3.5.jar \\\n",
        "-input desc_input.txt \\\n",
        "-output wordcount_output \\\n",
        "-file /content/mapper.py \\\n",
        "-file /content/reducer.py \\\n",
        "-mapper 'python mapper.py' \\\n",
        "-reducer 'python reducer.py'"
      ],
      "metadata": {
        "colab": {
          "base_uri": "https://localhost:8080/"
        },
        "id": "ETAaJIOSC85v",
        "outputId": "70854b1b-238b-411d-dc9f-b5c93b908b02"
      },
      "execution_count": null,
      "outputs": [
        {
          "output_type": "stream",
          "name": "stdout",
          "text": [
            "2024-10-20 04:57:58,636 WARN streaming.StreamJob: -file option is deprecated, please use generic option -files instead.\n",
            "packageJobJar: [/content/mapper.py, /content/reducer.py] [] /tmp/streamjob11779816169570692918.jar tmpDir=null\n",
            "2024-10-20 04:58:00,037 WARN impl.MetricsSystemImpl: JobTracker metrics system already initialized!\n",
            "2024-10-20 04:58:03,918 WARN impl.MetricsSystemImpl: JobTracker metrics system already initialized!\n"
          ]
        }
      ]
    },
    {
      "cell_type": "code",
      "source": [
        "!cat wordcount_output/part-00000"
      ],
      "metadata": {
        "id": "FUypdZFQtFVc",
        "colab": {
          "base_uri": "https://localhost:8080/"
        },
        "outputId": "abb0ec78-f76f-4aa3-ab8e-be3803e4e327"
      },
      "execution_count": null,
      "outputs": [
        {
          "output_type": "stream",
          "name": "stdout",
          "text": [
            "love\t896\n",
            "im\t838\n",
            "man\t652\n",
            "like\t633\n",
            "life\t523\n",
            "looking\t477\n",
            "good\t461\n",
            "person\t384\n",
            "relationship\t368\n",
            "honest\t367\n",
            "woman\t352\n",
            "caring\t314\n",
            "want\t291\n",
            "know\t271\n",
            "new\t260\n",
            "people\t254\n",
            "loving\t243\n",
            "time\t201\n",
            "heart\t195\n",
            "meet\t194\n",
            "kind\t191\n",
            "going\t190\n",
            "easy\t175\n",
            "single\t174\n",
            "enjoy\t166\n",
            "happy\t160\n",
            "fun\t149\n",
            "things\t149\n",
            "romantic\t147\n",
            "friends\t144\n"
          ]
        }
      ]
    },
    {
      "cell_type": "code",
      "source": [],
      "metadata": {
        "id": "J83kbAtJmPe1"
      },
      "execution_count": null,
      "outputs": []
    },
    {
      "cell_type": "code",
      "source": [
        "\n"
      ],
      "metadata": {
        "id": "oCtqwqLpmPhq"
      },
      "execution_count": null,
      "outputs": []
    }
  ]
}